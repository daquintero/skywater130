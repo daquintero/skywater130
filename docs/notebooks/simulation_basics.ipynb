{
 "cells": [
  {
   "cell_type": "code",
   "execution_count": 1,
   "id": "8163b0cd-276a-4530-99dd-97bc20906b78",
   "metadata": {},
   "outputs": [
    {
     "name": "stdout",
     "output_type": "stream",
     "text": [
      "\u001b[32m2024-05-23 17:10:58.325\u001b[0m | \u001b[1mINFO    \u001b[0m | \u001b[36mgdsfactory.pdk\u001b[0m:\u001b[36mregister_cells_yaml\u001b[0m:\u001b[36m376\u001b[0m - \u001b[1mRegistered cell 'sample'\u001b[0m\n"
     ]
    }
   ],
   "source": [
    "import sky130\n",
    "import sky130_hdl21"
   ]
  },
  {
   "cell_type": "code",
   "execution_count": null,
   "id": "c3e4d92b-c3d3-4677-8416-9c23de62b6c9",
   "metadata": {},
   "outputs": [],
   "source": []
  },
  {
   "cell_type": "code",
   "execution_count": null,
   "id": "978298fe-2c3e-492a-b037-28a7ffcbe337",
   "metadata": {},
   "outputs": [],
   "source": []
  }
 ],
 "metadata": {
  "kernelspec": {
   "display_name": "Python 3 (ipykernel)",
   "language": "python",
   "name": "python3"
  },
  "language_info": {
   "codemirror_mode": {
    "name": "ipython",
    "version": 3
   },
   "file_extension": ".py",
   "mimetype": "text/x-python",
   "name": "python",
   "nbconvert_exporter": "python",
   "pygments_lexer": "ipython3",
   "version": "3.10.13"
  }
 },
 "nbformat": 4,
 "nbformat_minor": 5
}
